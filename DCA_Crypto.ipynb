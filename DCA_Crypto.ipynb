{
 "cells": [
  {
   "cell_type": "code",
   "execution_count": null,
   "metadata": {},
   "outputs": [],
   "source": [
    "# !pip install yfinance"
   ]
  },
  {
   "cell_type": "code",
   "execution_count": 1,
   "metadata": {},
   "outputs": [],
   "source": [
    "import pandas as pd \n",
    "import yfinance as yf "
   ]
  },
  {
   "cell_type": "markdown",
   "metadata": {},
   "source": [
    "#### Ten cryptos to check "
   ]
  },
  {
   "cell_type": "code",
   "execution_count": 2,
   "metadata": {},
   "outputs": [],
   "source": [
    "CryptoPar = ['BTC-USD', 'ETH-USD', 'BNB-USD', 'XRP-USD', 'ADA-USD', 'DOGE-USD', \n",
    "            'SOL-USD', 'DOT-USD', 'SHIB-USD','TRX-USD']"
   ]
  },
  {
   "cell_type": "markdown",
   "metadata": {},
   "source": [
    "#### We use '2020-12-31' as date to begin the analysis"
   ]
  },
  {
   "cell_type": "code",
   "execution_count": 29,
   "metadata": {},
   "outputs": [
    {
     "name": "stdout",
     "output_type": "stream",
     "text": [
      "[*********************100%***********************]  1 of 1 completed\n"
     ]
    }
   ],
   "source": [
    "df = yf.download(CryptoPar[0], start='2020-12-31')"
   ]
  },
  {
   "cell_type": "markdown",
   "metadata": {},
   "source": [
    "## DCA"
   ]
  },
  {
   "cell_type": "code",
   "execution_count": 30,
   "metadata": {},
   "outputs": [
    {
     "name": "stdout",
     "output_type": "stream",
     "text": [
      "BTC-USD\n"
     ]
    },
    {
     "data": {
      "text/plain": [
       "DatetimeIndex(['2020-12-31', '2021-01-31', '2021-02-28', '2021-03-31',\n",
       "               '2021-04-30', '2021-05-31', '2021-06-30', '2021-07-31',\n",
       "               '2021-08-31', '2021-09-30', '2021-10-31', '2021-11-30',\n",
       "               '2021-12-31', '2022-01-31', '2022-02-28', '2022-03-31',\n",
       "               '2022-04-30', '2022-05-31', '2022-06-30', '2022-07-31',\n",
       "               '2022-08-31', '2022-09-30', '2022-10-31'],\n",
       "              dtype='datetime64[ns]', freq='M')"
      ]
     },
     "execution_count": 30,
     "metadata": {},
     "output_type": "execute_result"
    }
   ],
   "source": [
    "# buydates took last day of month --> I supposedly bought bitcoin those days. \n",
    "# Investment amount us $ 800 and buys for us $ 100\n",
    "print(CryptoPar[0])\n",
    "buydates = pd.date_range(start=df.index[0], end=df.index[-1], freq='1M')\n",
    "buydates"
   ]
  },
  {
   "cell_type": "code",
   "execution_count": 31,
   "metadata": {},
   "outputs": [
    {
     "name": "stdout",
     "output_type": "stream",
     "text": [
      "BTC-USD\n"
     ]
    },
    {
     "data": {
      "text/plain": [
       "Date\n",
       "2020-12-31    29001.720703\n",
       "2021-01-31    33114.359375\n",
       "2021-02-28    45137.769531\n",
       "2021-03-31    58918.832031\n",
       "2021-04-30    57750.175781\n",
       "2021-05-31    37332.855469\n",
       "2021-06-30    35040.835938\n",
       "2021-07-31    41626.195312\n",
       "2021-08-31    47166.687500\n",
       "2021-09-30    43790.894531\n",
       "2021-10-31    61318.957031\n",
       "2021-11-30    57005.425781\n",
       "2021-12-31    46306.445312\n",
       "2022-01-31    38483.125000\n",
       "2022-02-28    43193.234375\n",
       "2022-03-31    45538.675781\n",
       "2022-04-30    37714.875000\n",
       "2022-05-31    31792.310547\n",
       "2022-06-30    19784.726562\n",
       "2022-07-31    23336.896484\n",
       "2022-08-31    20049.763672\n",
       "2022-09-30    19431.789062\n",
       "2022-10-31    20495.773438\n",
       "Name: Close, dtype: float64"
      ]
     },
     "execution_count": 31,
     "metadata": {},
     "output_type": "execute_result"
    }
   ],
   "source": [
    "# Extract from df the records on last day of the month and just for Close column\n",
    "print(CryptoPar[0])\n",
    "buyprices = df[df.index.isin(buydates)].Close\n",
    "buyprices"
   ]
  },
  {
   "cell_type": "code",
   "execution_count": 32,
   "metadata": {},
   "outputs": [
    {
     "name": "stdout",
     "output_type": "stream",
     "text": [
      "BTC-USD\n"
     ]
    },
    {
     "data": {
      "text/plain": [
       "Date\n",
       "2020-12-31    0.017240\n",
       "2021-01-31    0.015099\n",
       "2021-02-28    0.011077\n",
       "2021-03-31    0.008486\n",
       "2021-04-30    0.008658\n",
       "2021-05-31    0.013393\n",
       "2021-06-30    0.014269\n",
       "2021-07-31    0.012012\n",
       "2021-08-31    0.010601\n",
       "2021-09-30    0.011418\n",
       "2021-10-31    0.008154\n",
       "2021-11-30    0.008771\n",
       "2021-12-31    0.010798\n",
       "2022-01-31    0.012993\n",
       "2022-02-28    0.011576\n",
       "2022-03-31    0.010980\n",
       "2022-04-30    0.013257\n",
       "2022-05-31    0.015727\n",
       "2022-06-30    0.025272\n",
       "2022-07-31    0.021425\n",
       "2022-08-31    0.024938\n",
       "2022-09-30    0.025731\n",
       "2022-10-31    0.024395\n",
       "Name: Close, dtype: float64"
      ]
     },
     "execution_count": 32,
     "metadata": {},
     "output_type": "execute_result"
    }
   ],
   "source": [
    "# How much bitcoin bought monthly: if a use us $ 500\n",
    "print(CryptoPar[0])\n",
    "btc_amt = 500/buyprices\n",
    "btc_amt"
   ]
  },
  {
   "cell_type": "code",
   "execution_count": 33,
   "metadata": {},
   "outputs": [
    {
     "data": {
      "text/plain": [
       "Date\n",
       "2020-12-31    0.017240\n",
       "2021-01-31    0.032340\n",
       "2021-02-28    0.043417\n",
       "2021-03-31    0.051903\n",
       "2021-04-30    0.060561\n",
       "2021-05-31    0.073954\n",
       "2021-06-30    0.088223\n",
       "2021-07-31    0.100235\n",
       "2021-08-31    0.110835\n",
       "2021-09-30    0.122253\n",
       "2021-10-31    0.130407\n",
       "2021-11-30    0.139179\n",
       "2021-12-31    0.149976\n",
       "2022-01-31    0.162969\n",
       "2022-02-28    0.174545\n",
       "2022-03-31    0.185524\n",
       "2022-04-30    0.198782\n",
       "2022-05-31    0.214509\n",
       "2022-06-30    0.239781\n",
       "2022-07-31    0.261206\n",
       "2022-08-31    0.286144\n",
       "2022-09-30    0.311875\n",
       "2022-10-31    0.336270\n",
       "Name: Close, dtype: float64"
      ]
     },
     "execution_count": 33,
     "metadata": {},
     "output_type": "execute_result"
    }
   ],
   "source": [
    "# seeing in a accummulating perspective\n",
    "btc_amt_sum =  btc_amt.cumsum()\n",
    "btc_amt_sum"
   ]
  },
  {
   "cell_type": "code",
   "execution_count": 34,
   "metadata": {},
   "outputs": [],
   "source": [
    "# naming column\n",
    "btc_amt_sum.name = 'btc_amt_DCA'"
   ]
  },
  {
   "cell_type": "code",
   "execution_count": 35,
   "metadata": {},
   "outputs": [
    {
     "name": "stdout",
     "output_type": "stream",
     "text": [
      "BTC-USD\n"
     ]
    },
    {
     "data": {
      "text/plain": [
       "0.3362704431797148"
      ]
     },
     "execution_count": 35,
     "metadata": {},
     "output_type": "execute_result"
    }
   ],
   "source": [
    "# How much bitcoin would i have if I used DCA purchases?\n",
    "print(CryptoPar[0])\n",
    "btc_amt = 500/buyprices\n",
    "btc_dca = btc_amt.sum()\n",
    "btc_dca"
   ]
  },
  {
   "cell_type": "code",
   "execution_count": 36,
   "metadata": {},
   "outputs": [
    {
     "data": {
      "text/plain": [
       "11500"
      ]
     },
     "execution_count": 36,
     "metadata": {},
     "output_type": "execute_result"
    }
   ],
   "source": [
    "# if a bought BTC using us $ 500 monthly during the len of buyprice\n",
    "Total_USD = 500 * len(buyprices)\n",
    "Total_USD"
   ]
  },
  {
   "cell_type": "code",
   "execution_count": 37,
   "metadata": {},
   "outputs": [
    {
     "name": "stdout",
     "output_type": "stream",
     "text": [
      "So, use USD $11500 to bought 0.3362704431797148 BTC using DCA Stategy\n"
     ]
    }
   ],
   "source": [
    "print(f'So, use USD ${Total_USD} to bought {btc_dca} BTC using DCA Stategy')"
   ]
  },
  {
   "cell_type": "markdown",
   "metadata": {},
   "source": [
    "## Lump Sum"
   ]
  },
  {
   "cell_type": "code",
   "execution_count": 38,
   "metadata": {},
   "outputs": [
    {
     "data": {
      "text/plain": [
       "0.39652819629977504"
      ]
     },
     "execution_count": 38,
     "metadata": {},
     "output_type": "execute_result"
    }
   ],
   "source": [
    "# So if I were bought us $ 11000 on the first day (Lump Sum) I had btc_amt_LS bitcoins\n",
    "btc_amt_LS = 500 * len(buyprices) / buyprices[0]\n",
    "btc_amt_LS"
   ]
  },
  {
   "cell_type": "code",
   "execution_count": 39,
   "metadata": {},
   "outputs": [
    {
     "data": {
      "text/plain": [
       "-0.060257753120060265"
      ]
     },
     "execution_count": 39,
     "metadata": {},
     "output_type": "execute_result"
    }
   ],
   "source": [
    "# Then, the difference (in BTC) between the DCA and the Lump Sum strategy is\n",
    "diff = btc_dca - btc_amt_LS\n",
    "diff"
   ]
  },
  {
   "cell_type": "markdown",
   "metadata": {},
   "source": [
    "So, in this case, if you had used the DCA strategy you would have **LESS** bitcoins than if you had made the acquisition of the bitcoins in a single purchase at the beginning of the period."
   ]
  },
  {
   "cell_type": "code",
   "execution_count": 40,
   "metadata": {},
   "outputs": [
    {
     "data": {
      "text/html": [
       "<div>\n",
       "<style scoped>\n",
       "    .dataframe tbody tr th:only-of-type {\n",
       "        vertical-align: middle;\n",
       "    }\n",
       "\n",
       "    .dataframe tbody tr th {\n",
       "        vertical-align: top;\n",
       "    }\n",
       "\n",
       "    .dataframe thead th {\n",
       "        text-align: right;\n",
       "    }\n",
       "</style>\n",
       "<table border=\"1\" class=\"dataframe\">\n",
       "  <thead>\n",
       "    <tr style=\"text-align: right;\">\n",
       "      <th></th>\n",
       "      <th>btc_amt_DCA</th>\n",
       "      <th>Open</th>\n",
       "      <th>High</th>\n",
       "      <th>Low</th>\n",
       "      <th>Close</th>\n",
       "      <th>Adj Close</th>\n",
       "      <th>Volume</th>\n",
       "    </tr>\n",
       "    <tr>\n",
       "      <th>Date</th>\n",
       "      <th></th>\n",
       "      <th></th>\n",
       "      <th></th>\n",
       "      <th></th>\n",
       "      <th></th>\n",
       "      <th></th>\n",
       "      <th></th>\n",
       "    </tr>\n",
       "  </thead>\n",
       "  <tbody>\n",
       "    <tr>\n",
       "      <th>2020-12-31</th>\n",
       "      <td>0.01724</td>\n",
       "      <td>28841.574219</td>\n",
       "      <td>29244.876953</td>\n",
       "      <td>28201.992188</td>\n",
       "      <td>29001.720703</td>\n",
       "      <td>29001.720703</td>\n",
       "      <td>46754964848</td>\n",
       "    </tr>\n",
       "    <tr>\n",
       "      <th>2021-01-01</th>\n",
       "      <td>0.01724</td>\n",
       "      <td>28994.009766</td>\n",
       "      <td>29600.626953</td>\n",
       "      <td>28803.585938</td>\n",
       "      <td>29374.152344</td>\n",
       "      <td>29374.152344</td>\n",
       "      <td>40730301359</td>\n",
       "    </tr>\n",
       "    <tr>\n",
       "      <th>2021-01-02</th>\n",
       "      <td>0.01724</td>\n",
       "      <td>29376.455078</td>\n",
       "      <td>33155.117188</td>\n",
       "      <td>29091.181641</td>\n",
       "      <td>32127.267578</td>\n",
       "      <td>32127.267578</td>\n",
       "      <td>67865420765</td>\n",
       "    </tr>\n",
       "    <tr>\n",
       "      <th>2021-01-03</th>\n",
       "      <td>0.01724</td>\n",
       "      <td>32129.408203</td>\n",
       "      <td>34608.558594</td>\n",
       "      <td>32052.316406</td>\n",
       "      <td>32782.023438</td>\n",
       "      <td>32782.023438</td>\n",
       "      <td>78665235202</td>\n",
       "    </tr>\n",
       "    <tr>\n",
       "      <th>2021-01-04</th>\n",
       "      <td>0.01724</td>\n",
       "      <td>32810.949219</td>\n",
       "      <td>33440.218750</td>\n",
       "      <td>28722.755859</td>\n",
       "      <td>31971.914062</td>\n",
       "      <td>31971.914062</td>\n",
       "      <td>81163475344</td>\n",
       "    </tr>\n",
       "    <tr>\n",
       "      <th>...</th>\n",
       "      <td>...</td>\n",
       "      <td>...</td>\n",
       "      <td>...</td>\n",
       "      <td>...</td>\n",
       "      <td>...</td>\n",
       "      <td>...</td>\n",
       "      <td>...</td>\n",
       "    </tr>\n",
       "    <tr>\n",
       "      <th>2022-11-05</th>\n",
       "      <td>0.33627</td>\n",
       "      <td>21144.832031</td>\n",
       "      <td>21446.886719</td>\n",
       "      <td>21097.634766</td>\n",
       "      <td>21282.691406</td>\n",
       "      <td>21282.691406</td>\n",
       "      <td>37846047609</td>\n",
       "    </tr>\n",
       "    <tr>\n",
       "      <th>2022-11-06</th>\n",
       "      <td>0.33627</td>\n",
       "      <td>21285.056641</td>\n",
       "      <td>21345.376953</td>\n",
       "      <td>20920.191406</td>\n",
       "      <td>20926.486328</td>\n",
       "      <td>20926.486328</td>\n",
       "      <td>35082693210</td>\n",
       "    </tr>\n",
       "    <tr>\n",
       "      <th>2022-11-07</th>\n",
       "      <td>0.33627</td>\n",
       "      <td>20924.621094</td>\n",
       "      <td>21053.246094</td>\n",
       "      <td>20489.972656</td>\n",
       "      <td>20602.816406</td>\n",
       "      <td>20602.816406</td>\n",
       "      <td>53510852236</td>\n",
       "    </tr>\n",
       "    <tr>\n",
       "      <th>2022-11-08</th>\n",
       "      <td>0.33627</td>\n",
       "      <td>20600.671875</td>\n",
       "      <td>20664.607422</td>\n",
       "      <td>17603.544922</td>\n",
       "      <td>18541.271484</td>\n",
       "      <td>18541.271484</td>\n",
       "      <td>118992465607</td>\n",
       "    </tr>\n",
       "    <tr>\n",
       "      <th>2022-11-09</th>\n",
       "      <td>0.33627</td>\n",
       "      <td>18509.156250</td>\n",
       "      <td>18590.458984</td>\n",
       "      <td>17428.435547</td>\n",
       "      <td>17652.292969</td>\n",
       "      <td>17652.292969</td>\n",
       "      <td>126847909888</td>\n",
       "    </tr>\n",
       "  </tbody>\n",
       "</table>\n",
       "<p>679 rows × 7 columns</p>\n",
       "</div>"
      ],
      "text/plain": [
       "            btc_amt_DCA          Open          High           Low  \\\n",
       "Date                                                                \n",
       "2020-12-31      0.01724  28841.574219  29244.876953  28201.992188   \n",
       "2021-01-01      0.01724  28994.009766  29600.626953  28803.585938   \n",
       "2021-01-02      0.01724  29376.455078  33155.117188  29091.181641   \n",
       "2021-01-03      0.01724  32129.408203  34608.558594  32052.316406   \n",
       "2021-01-04      0.01724  32810.949219  33440.218750  28722.755859   \n",
       "...                 ...           ...           ...           ...   \n",
       "2022-11-05      0.33627  21144.832031  21446.886719  21097.634766   \n",
       "2022-11-06      0.33627  21285.056641  21345.376953  20920.191406   \n",
       "2022-11-07      0.33627  20924.621094  21053.246094  20489.972656   \n",
       "2022-11-08      0.33627  20600.671875  20664.607422  17603.544922   \n",
       "2022-11-09      0.33627  18509.156250  18590.458984  17428.435547   \n",
       "\n",
       "                   Close     Adj Close        Volume  \n",
       "Date                                                  \n",
       "2020-12-31  29001.720703  29001.720703   46754964848  \n",
       "2021-01-01  29374.152344  29374.152344   40730301359  \n",
       "2021-01-02  32127.267578  32127.267578   67865420765  \n",
       "2021-01-03  32782.023438  32782.023438   78665235202  \n",
       "2021-01-04  31971.914062  31971.914062   81163475344  \n",
       "...                  ...           ...           ...  \n",
       "2022-11-05  21282.691406  21282.691406   37846047609  \n",
       "2022-11-06  20926.486328  20926.486328   35082693210  \n",
       "2022-11-07  20602.816406  20602.816406   53510852236  \n",
       "2022-11-08  18541.271484  18541.271484  118992465607  \n",
       "2022-11-09  17652.292969  17652.292969  126847909888  \n",
       "\n",
       "[679 rows x 7 columns]"
      ]
     },
     "execution_count": 40,
     "metadata": {},
     "output_type": "execute_result"
    }
   ],
   "source": [
    "# let's concatenate btc_amt_sum with df\n",
    "df_tog = pd.concat([btc_amt_sum, df], axis=1).ffill()\n",
    "df_tog"
   ]
  },
  {
   "cell_type": "code",
   "execution_count": 41,
   "metadata": {},
   "outputs": [
    {
     "data": {
      "text/html": [
       "<div>\n",
       "<style scoped>\n",
       "    .dataframe tbody tr th:only-of-type {\n",
       "        vertical-align: middle;\n",
       "    }\n",
       "\n",
       "    .dataframe tbody tr th {\n",
       "        vertical-align: top;\n",
       "    }\n",
       "\n",
       "    .dataframe thead th {\n",
       "        text-align: right;\n",
       "    }\n",
       "</style>\n",
       "<table border=\"1\" class=\"dataframe\">\n",
       "  <thead>\n",
       "    <tr style=\"text-align: right;\">\n",
       "      <th></th>\n",
       "      <th>btc_amt_DCA</th>\n",
       "      <th>Open</th>\n",
       "      <th>High</th>\n",
       "      <th>Low</th>\n",
       "      <th>Close</th>\n",
       "      <th>Adj Close</th>\n",
       "      <th>Volume</th>\n",
       "      <th>btc_amt_LS</th>\n",
       "    </tr>\n",
       "    <tr>\n",
       "      <th>Date</th>\n",
       "      <th></th>\n",
       "      <th></th>\n",
       "      <th></th>\n",
       "      <th></th>\n",
       "      <th></th>\n",
       "      <th></th>\n",
       "      <th></th>\n",
       "      <th></th>\n",
       "    </tr>\n",
       "  </thead>\n",
       "  <tbody>\n",
       "    <tr>\n",
       "      <th>2020-12-31</th>\n",
       "      <td>0.01724</td>\n",
       "      <td>28841.574219</td>\n",
       "      <td>29244.876953</td>\n",
       "      <td>28201.992188</td>\n",
       "      <td>29001.720703</td>\n",
       "      <td>29001.720703</td>\n",
       "      <td>46754964848</td>\n",
       "      <td>0.396528</td>\n",
       "    </tr>\n",
       "    <tr>\n",
       "      <th>2021-01-01</th>\n",
       "      <td>0.01724</td>\n",
       "      <td>28994.009766</td>\n",
       "      <td>29600.626953</td>\n",
       "      <td>28803.585938</td>\n",
       "      <td>29374.152344</td>\n",
       "      <td>29374.152344</td>\n",
       "      <td>40730301359</td>\n",
       "      <td>0.396528</td>\n",
       "    </tr>\n",
       "    <tr>\n",
       "      <th>2021-01-02</th>\n",
       "      <td>0.01724</td>\n",
       "      <td>29376.455078</td>\n",
       "      <td>33155.117188</td>\n",
       "      <td>29091.181641</td>\n",
       "      <td>32127.267578</td>\n",
       "      <td>32127.267578</td>\n",
       "      <td>67865420765</td>\n",
       "      <td>0.396528</td>\n",
       "    </tr>\n",
       "    <tr>\n",
       "      <th>2021-01-03</th>\n",
       "      <td>0.01724</td>\n",
       "      <td>32129.408203</td>\n",
       "      <td>34608.558594</td>\n",
       "      <td>32052.316406</td>\n",
       "      <td>32782.023438</td>\n",
       "      <td>32782.023438</td>\n",
       "      <td>78665235202</td>\n",
       "      <td>0.396528</td>\n",
       "    </tr>\n",
       "    <tr>\n",
       "      <th>2021-01-04</th>\n",
       "      <td>0.01724</td>\n",
       "      <td>32810.949219</td>\n",
       "      <td>33440.218750</td>\n",
       "      <td>28722.755859</td>\n",
       "      <td>31971.914062</td>\n",
       "      <td>31971.914062</td>\n",
       "      <td>81163475344</td>\n",
       "      <td>0.396528</td>\n",
       "    </tr>\n",
       "    <tr>\n",
       "      <th>...</th>\n",
       "      <td>...</td>\n",
       "      <td>...</td>\n",
       "      <td>...</td>\n",
       "      <td>...</td>\n",
       "      <td>...</td>\n",
       "      <td>...</td>\n",
       "      <td>...</td>\n",
       "      <td>...</td>\n",
       "    </tr>\n",
       "    <tr>\n",
       "      <th>2022-11-05</th>\n",
       "      <td>0.33627</td>\n",
       "      <td>21144.832031</td>\n",
       "      <td>21446.886719</td>\n",
       "      <td>21097.634766</td>\n",
       "      <td>21282.691406</td>\n",
       "      <td>21282.691406</td>\n",
       "      <td>37846047609</td>\n",
       "      <td>0.396528</td>\n",
       "    </tr>\n",
       "    <tr>\n",
       "      <th>2022-11-06</th>\n",
       "      <td>0.33627</td>\n",
       "      <td>21285.056641</td>\n",
       "      <td>21345.376953</td>\n",
       "      <td>20920.191406</td>\n",
       "      <td>20926.486328</td>\n",
       "      <td>20926.486328</td>\n",
       "      <td>35082693210</td>\n",
       "      <td>0.396528</td>\n",
       "    </tr>\n",
       "    <tr>\n",
       "      <th>2022-11-07</th>\n",
       "      <td>0.33627</td>\n",
       "      <td>20924.621094</td>\n",
       "      <td>21053.246094</td>\n",
       "      <td>20489.972656</td>\n",
       "      <td>20602.816406</td>\n",
       "      <td>20602.816406</td>\n",
       "      <td>53510852236</td>\n",
       "      <td>0.396528</td>\n",
       "    </tr>\n",
       "    <tr>\n",
       "      <th>2022-11-08</th>\n",
       "      <td>0.33627</td>\n",
       "      <td>20600.671875</td>\n",
       "      <td>20664.607422</td>\n",
       "      <td>17603.544922</td>\n",
       "      <td>18541.271484</td>\n",
       "      <td>18541.271484</td>\n",
       "      <td>118992465607</td>\n",
       "      <td>0.396528</td>\n",
       "    </tr>\n",
       "    <tr>\n",
       "      <th>2022-11-09</th>\n",
       "      <td>0.33627</td>\n",
       "      <td>18509.156250</td>\n",
       "      <td>18590.458984</td>\n",
       "      <td>17428.435547</td>\n",
       "      <td>17652.292969</td>\n",
       "      <td>17652.292969</td>\n",
       "      <td>126847909888</td>\n",
       "      <td>0.396528</td>\n",
       "    </tr>\n",
       "  </tbody>\n",
       "</table>\n",
       "<p>679 rows × 8 columns</p>\n",
       "</div>"
      ],
      "text/plain": [
       "            btc_amt_DCA          Open          High           Low  \\\n",
       "Date                                                                \n",
       "2020-12-31      0.01724  28841.574219  29244.876953  28201.992188   \n",
       "2021-01-01      0.01724  28994.009766  29600.626953  28803.585938   \n",
       "2021-01-02      0.01724  29376.455078  33155.117188  29091.181641   \n",
       "2021-01-03      0.01724  32129.408203  34608.558594  32052.316406   \n",
       "2021-01-04      0.01724  32810.949219  33440.218750  28722.755859   \n",
       "...                 ...           ...           ...           ...   \n",
       "2022-11-05      0.33627  21144.832031  21446.886719  21097.634766   \n",
       "2022-11-06      0.33627  21285.056641  21345.376953  20920.191406   \n",
       "2022-11-07      0.33627  20924.621094  21053.246094  20489.972656   \n",
       "2022-11-08      0.33627  20600.671875  20664.607422  17603.544922   \n",
       "2022-11-09      0.33627  18509.156250  18590.458984  17428.435547   \n",
       "\n",
       "                   Close     Adj Close        Volume  btc_amt_LS  \n",
       "Date                                                              \n",
       "2020-12-31  29001.720703  29001.720703   46754964848    0.396528  \n",
       "2021-01-01  29374.152344  29374.152344   40730301359    0.396528  \n",
       "2021-01-02  32127.267578  32127.267578   67865420765    0.396528  \n",
       "2021-01-03  32782.023438  32782.023438   78665235202    0.396528  \n",
       "2021-01-04  31971.914062  31971.914062   81163475344    0.396528  \n",
       "...                  ...           ...           ...         ...  \n",
       "2022-11-05  21282.691406  21282.691406   37846047609    0.396528  \n",
       "2022-11-06  20926.486328  20926.486328   35082693210    0.396528  \n",
       "2022-11-07  20602.816406  20602.816406   53510852236    0.396528  \n",
       "2022-11-08  18541.271484  18541.271484  118992465607    0.396528  \n",
       "2022-11-09  17652.292969  17652.292969  126847909888    0.396528  \n",
       "\n",
       "[679 rows x 8 columns]"
      ]
     },
     "execution_count": 41,
     "metadata": {},
     "output_type": "execute_result"
    }
   ],
   "source": [
    "# adding Lump Sum column to df_tog\n",
    "df_tog['btc_amt_LS'] = btc_amt_LS\n",
    "df_tog"
   ]
  },
  {
   "cell_type": "markdown",
   "metadata": {},
   "source": [
    "## DCA Approach Plot"
   ]
  },
  {
   "cell_type": "code",
   "execution_count": 43,
   "metadata": {},
   "outputs": [
    {
     "data": {
      "text/plain": [
       "<AxesSubplot:xlabel='Date'>"
      ]
     },
     "execution_count": 43,
     "metadata": {},
     "output_type": "execute_result"
    },
    {
     "data": {
      "image/png": "[encoded data removed]",
      "text/plain": [
       "<Figure size 432x288 with 1 Axes>"
      ]
     },
     "metadata": {
      "needs_background": "light"
     },
     "output_type": "display_data"
    }
   ],
   "source": [
    "# Let's plot the portfolio in USD\n",
    "(df_tog.btc_amt_DCA * df_tog.Close).plot()"
   ]
  },
  {
   "cell_type": "code",
   "execution_count": 44,
   "metadata": {},
   "outputs": [
    {
     "data": {
      "text/plain": [
       "5935.944379739725"
      ]
     },
     "execution_count": 44,
     "metadata": {},
     "output_type": "execute_result"
    }
   ],
   "source": [
    "# With DCA approach at the end we have in USD:\n",
    "(df_tog.btc_amt_DCA * df_tog.Close)[-1]"
   ]
  },
  {
   "cell_type": "code",
   "execution_count": 45,
   "metadata": {},
   "outputs": [
    {
     "data": {
      "text/plain": [
       "6999.631891453639"
      ]
     },
     "execution_count": 45,
     "metadata": {},
     "output_type": "execute_result"
    }
   ],
   "source": [
    "# With Lump Sum approach at the end we have in USD:\n",
    "btc_amt_LS*(df_tog.Close[-1])"
   ]
  },
  {
   "cell_type": "code",
   "execution_count": 48,
   "metadata": {},
   "outputs": [
    {
     "data": {
      "text/plain": [
       "-1063.6875117139134"
      ]
     },
     "execution_count": 48,
     "metadata": {},
     "output_type": "execute_result"
    }
   ],
   "source": [
    "# difference in USD\n",
    "(df_tog.btc_amt_DCA * df_tog.Close)[-1] - btc_amt_LS*(df_tog.Close[-1])"
   ]
  },
  {
   "cell_type": "markdown",
   "metadata": {},
   "source": [
    "## Conclusions"
   ]
  },
  {
   "cell_type": "code",
   "execution_count": 57,
   "metadata": {},
   "outputs": [
    {
     "name": "stdout",
     "output_type": "stream",
     "text": [
      "With DCA You invested USD $ 11500 and at the end you got USD$ 5935.94\n"
     ]
    }
   ],
   "source": [
    "print(f'With DCA You invested USD $ {Total_USD} and at the end you got USD\\\n",
    "$ {(df_tog.btc_amt_DCA * df_tog.Close)[-1]:.2f}')"
   ]
  },
  {
   "cell_type": "code",
   "execution_count": 62,
   "metadata": {},
   "outputs": [
    {
     "name": "stdout",
     "output_type": "stream",
     "text": [
      "With Lump Sum You invested USD $ 11500 and at the end you got USD    $ 6999.63\n"
     ]
    }
   ],
   "source": [
    "print(f'With Lump Sum You invested USD $ {Total_USD} and at the end you got USD\\\n",
    "    $ {btc_amt_LS * (df_tog.Close)[-1]:.2f}')"
   ]
  },
  {
   "cell_type": "markdown",
   "metadata": {},
   "source": [
    "## So for this period of time and for bitcoin as asset we got got losses with DCA and Lump Sum Strategy"
   ]
  }
 ],
 "metadata": {
  "kernelspec": {
   "display_name": "Python 3.8.13 ('base')",
   "language": "python",
   "name": "python3"
  },
  "language_info": {
   "codemirror_mode": {
    "name": "ipython",
    "version": 3
   },
   "file_extension": ".py",
   "mimetype": "text/x-python",
   "name": "python",
   "nbconvert_exporter": "python",
   "pygments_lexer": "ipython3",
   "version": "3.8.13"
  },
  "orig_nbformat": 4,
  "vscode": {
   "interpreter": {
    "hash": "6575615a8e4bf2bce2073070fa9afe345e3f6bb4481a529180704a6478cdcccb"
   }
  }
 },
 "nbformat": 4,
 "nbformat_minor": 2
}
